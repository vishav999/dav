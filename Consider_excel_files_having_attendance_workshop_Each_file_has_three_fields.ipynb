{
 "cells": [
  {
   "cell_type": "markdown",
   "id": "ff21059f",
   "metadata": {},
   "source": [
    "# Consider two excel files having attendance of a workshop’s participants for two days. Each file has three fields ‘Name’, ‘Time of joining’, duration (in minutes) where names are unique within a file. Note that duration may take one of three values (30, 40, 50) only. Import the data into two dataframes and do the following:"
   ]
  },
  {
   "cell_type": "code",
   "execution_count": 3,
   "id": "62689526",
   "metadata": {},
   "outputs": [],
   "source": [
    "import numpy as np\n",
    "import pandas as pd\n",
    "d1 = pd.read_excel(r\"C:\\Users\\visha\\Downloads\\data1.xlsx\")\n",
    "d2 = pd.read_excel(r\"C:\\Users\\visha\\Downloads\\data2.xlsx\")"
   ]
  },
  {
   "cell_type": "code",
   "execution_count": 4,
   "id": "07ec445e",
   "metadata": {},
   "outputs": [
    {
     "data": {
      "text/html": [
       "<div>\n",
       "<style scoped>\n",
       "    .dataframe tbody tr th:only-of-type {\n",
       "        vertical-align: middle;\n",
       "    }\n",
       "\n",
       "    .dataframe tbody tr th {\n",
       "        vertical-align: top;\n",
       "    }\n",
       "\n",
       "    .dataframe thead th {\n",
       "        text-align: right;\n",
       "    }\n",
       "</style>\n",
       "<table border=\"1\" class=\"dataframe\">\n",
       "  <thead>\n",
       "    <tr style=\"text-align: right;\">\n",
       "      <th></th>\n",
       "      <th>Name</th>\n",
       "      <th>Time</th>\n",
       "      <th>Duration</th>\n",
       "    </tr>\n",
       "  </thead>\n",
       "  <tbody>\n",
       "    <tr>\n",
       "      <th>0</th>\n",
       "      <td>Shruti</td>\n",
       "      <td>02:20:25</td>\n",
       "      <td>40</td>\n",
       "    </tr>\n",
       "    <tr>\n",
       "      <th>1</th>\n",
       "      <td>Simran</td>\n",
       "      <td>02:30:26</td>\n",
       "      <td>30</td>\n",
       "    </tr>\n",
       "    <tr>\n",
       "      <th>2</th>\n",
       "      <td>Vishav</td>\n",
       "      <td>02:40:27</td>\n",
       "      <td>30</td>\n",
       "    </tr>\n",
       "    <tr>\n",
       "      <th>3</th>\n",
       "      <td>Colby</td>\n",
       "      <td>02:50:28</td>\n",
       "      <td>50</td>\n",
       "    </tr>\n",
       "    <tr>\n",
       "      <th>4</th>\n",
       "      <td>Cathenna</td>\n",
       "      <td>03:30:29</td>\n",
       "      <td>40</td>\n",
       "    </tr>\n",
       "    <tr>\n",
       "      <th>5</th>\n",
       "      <td>Xander</td>\n",
       "      <td>03:40:30</td>\n",
       "      <td>50</td>\n",
       "    </tr>\n",
       "    <tr>\n",
       "      <th>6</th>\n",
       "      <td>Aiden</td>\n",
       "      <td>03:40:31</td>\n",
       "      <td>30</td>\n",
       "    </tr>\n",
       "    <tr>\n",
       "      <th>7</th>\n",
       "      <td>Ronan</td>\n",
       "      <td>03:10:32</td>\n",
       "      <td>40</td>\n",
       "    </tr>\n",
       "    <tr>\n",
       "      <th>8</th>\n",
       "      <td>Cole</td>\n",
       "      <td>03:20:33</td>\n",
       "      <td>30</td>\n",
       "    </tr>\n",
       "  </tbody>\n",
       "</table>\n",
       "</div>"
      ],
      "text/plain": [
       "       Name      Time  Duration\n",
       "0    Shruti  02:20:25        40\n",
       "1    Simran  02:30:26        30\n",
       "2    Vishav  02:40:27        30\n",
       "3     Colby  02:50:28        50\n",
       "4  Cathenna  03:30:29        40\n",
       "5    Xander  03:40:30        50\n",
       "6     Aiden  03:40:31        30\n",
       "7     Ronan  03:10:32        40\n",
       "8      Cole  03:20:33        30"
      ]
     },
     "execution_count": 4,
     "metadata": {},
     "output_type": "execute_result"
    }
   ],
   "source": [
    "d1"
   ]
  },
  {
   "cell_type": "code",
   "execution_count": 5,
   "id": "69f7f931",
   "metadata": {},
   "outputs": [
    {
     "data": {
      "text/html": [
       "<div>\n",
       "<style scoped>\n",
       "    .dataframe tbody tr th:only-of-type {\n",
       "        vertical-align: middle;\n",
       "    }\n",
       "\n",
       "    .dataframe tbody tr th {\n",
       "        vertical-align: top;\n",
       "    }\n",
       "\n",
       "    .dataframe thead th {\n",
       "        text-align: right;\n",
       "    }\n",
       "</style>\n",
       "<table border=\"1\" class=\"dataframe\">\n",
       "  <thead>\n",
       "    <tr style=\"text-align: right;\">\n",
       "      <th></th>\n",
       "      <th>Name</th>\n",
       "      <th>Time</th>\n",
       "      <th>Duration</th>\n",
       "    </tr>\n",
       "  </thead>\n",
       "  <tbody>\n",
       "    <tr>\n",
       "      <th>0</th>\n",
       "      <td>Elsa</td>\n",
       "      <td>02:20:25</td>\n",
       "      <td>40</td>\n",
       "    </tr>\n",
       "    <tr>\n",
       "      <th>1</th>\n",
       "      <td>Kimberly</td>\n",
       "      <td>02:35:26</td>\n",
       "      <td>30</td>\n",
       "    </tr>\n",
       "    <tr>\n",
       "      <th>2</th>\n",
       "      <td>Silver</td>\n",
       "      <td>02:10:27</td>\n",
       "      <td>30</td>\n",
       "    </tr>\n",
       "    <tr>\n",
       "      <th>3</th>\n",
       "      <td>Conen</td>\n",
       "      <td>02:50:28</td>\n",
       "      <td>50</td>\n",
       "    </tr>\n",
       "    <tr>\n",
       "      <th>4</th>\n",
       "      <td>Teal</td>\n",
       "      <td>03:25:29</td>\n",
       "      <td>40</td>\n",
       "    </tr>\n",
       "    <tr>\n",
       "      <th>5</th>\n",
       "      <td>Xander</td>\n",
       "      <td>03:40:30</td>\n",
       "      <td>50</td>\n",
       "    </tr>\n",
       "    <tr>\n",
       "      <th>6</th>\n",
       "      <td>Aiden</td>\n",
       "      <td>03:40:31</td>\n",
       "      <td>30</td>\n",
       "    </tr>\n",
       "    <tr>\n",
       "      <th>7</th>\n",
       "      <td>Ronan</td>\n",
       "      <td>03:15:32</td>\n",
       "      <td>40</td>\n",
       "    </tr>\n",
       "    <tr>\n",
       "      <th>8</th>\n",
       "      <td>Cole</td>\n",
       "      <td>03:20:33</td>\n",
       "      <td>30</td>\n",
       "    </tr>\n",
       "  </tbody>\n",
       "</table>\n",
       "</div>"
      ],
      "text/plain": [
       "       Name      Time  Duration\n",
       "0      Elsa  02:20:25        40\n",
       "1  Kimberly  02:35:26        30\n",
       "2    Silver  02:10:27        30\n",
       "3     Conen  02:50:28        50\n",
       "4      Teal  03:25:29        40\n",
       "5    Xander  03:40:30        50\n",
       "6     Aiden  03:40:31        30\n",
       "7     Ronan  03:15:32        40\n",
       "8      Cole  03:20:33        30"
      ]
     },
     "execution_count": 5,
     "metadata": {},
     "output_type": "execute_result"
    }
   ],
   "source": [
    "d2"
   ]
  },
  {
   "cell_type": "markdown",
   "id": "e4d784e5",
   "metadata": {},
   "source": [
    "## a. Perform merging of the two dataframes to find the names of students who had attended the workshop on both days."
   ]
  },
  {
   "cell_type": "code",
   "execution_count": 9,
   "id": "02cb03e6",
   "metadata": {},
   "outputs": [
    {
     "name": "stdout",
     "output_type": "stream",
     "text": [
      "Names of students who attended the workshop on both days:\n",
      "0    Xander\n",
      "1     Aiden\n",
      "2     Ronan\n",
      "3      Cole\n",
      "Name: Name, dtype: object\n"
     ]
    }
   ],
   "source": [
    "common_attendees = pd.merge(d1, d2, on='Name', how='inner')\n",
    "print(\"Names of students who attended the workshop on both days:\")\n",
    "print(common_attendees['Name'])"
   ]
  },
  {
   "cell_type": "markdown",
   "id": "6d2b7a8d",
   "metadata": {},
   "source": [
    "## b. Find names of all students who have attended workshop on either of the days."
   ]
  },
  {
   "cell_type": "code",
   "execution_count": 10,
   "id": "7b8532e8",
   "metadata": {},
   "outputs": [
    {
     "name": "stdout",
     "output_type": "stream",
     "text": [
      "\n",
      "Names of all students who attended the workshop on either day:\n",
      "0       Shruti\n",
      "1       Simran\n",
      "2       Vishav\n",
      "3        Colby\n",
      "4     Cathenna\n",
      "5       Xander\n",
      "6        Aiden\n",
      "7        Ronan\n",
      "8         Cole\n",
      "9         Elsa\n",
      "10    Kimberly\n",
      "11      Silver\n",
      "12       Conen\n",
      "13        Teal\n",
      "Name: Name, dtype: object\n"
     ]
    }
   ],
   "source": [
    "all_attendees = pd.merge(d1, d2, on='Name', how='outer')\n",
    "print(\"\\nNames of all students who attended the workshop on either day:\")\n",
    "print(all_attendees['Name'])"
   ]
  },
  {
   "cell_type": "markdown",
   "id": "9218d7a0",
   "metadata": {},
   "source": [
    "## c. Merge two data frames row-wise and find the total number of records in the data frame."
   ]
  },
  {
   "cell_type": "code",
   "execution_count": 11,
   "id": "838c072e",
   "metadata": {},
   "outputs": [
    {
     "name": "stdout",
     "output_type": "stream",
     "text": [
      "\n",
      "Total number of records after merging row-wise: 18\n"
     ]
    }
   ],
   "source": [
    "merged_row_wise = pd.concat([d1, d2], ignore_index=True)\n",
    "print(\"\\nTotal number of records after merging row-wise:\", len(merged_row_wise))"
   ]
  },
  {
   "cell_type": "markdown",
   "id": "ed728406",
   "metadata": {},
   "source": [
    "## d. Merge two data frames and use two columns names and duration as multi-row indexes. Generate descriptive statistics for this multi-index."
   ]
  },
  {
   "cell_type": "code",
   "execution_count": 15,
   "id": "e14ed026",
   "metadata": {},
   "outputs": [
    {
     "name": "stdout",
     "output_type": "stream",
     "text": [
      "\n",
      "Descriptive statistics for merged data with multi-row indexes:\n",
      "                  Time_x                       Time_y                      \n",
      "                   count unique       top freq  count unique       top freq\n",
      "Name     Duration                                                          \n",
      "Aiden    30            1      1  03:40:31    1      1      1  03:40:31    1\n",
      "Cathenna 40            1      1  03:30:29    1      0      0       NaN  NaN\n",
      "Colby    50            1      1  02:50:28    1      0      0       NaN  NaN\n",
      "Cole     30            1      1  03:20:33    1      1      1  03:20:33    1\n",
      "Conen    50            0      0       NaN  NaN      1      1  02:50:28    1\n",
      "Elsa     40            0      0       NaN  NaN      1      1  02:20:25    1\n",
      "Kimberly 30            0      0       NaN  NaN      1      1  02:35:26    1\n",
      "Ronan    40            1      1  03:10:32    1      1      1  03:15:32    1\n",
      "Shruti   40            1      1  02:20:25    1      0      0       NaN  NaN\n",
      "Silver   30            0      0       NaN  NaN      1      1  02:10:27    1\n",
      "Simran   30            1      1  02:30:26    1      0      0       NaN  NaN\n",
      "Teal     40            0      0       NaN  NaN      1      1  03:25:29    1\n",
      "Vishav   30            1      1  02:40:27    1      0      0       NaN  NaN\n",
      "Xander   50            1      1  03:40:30    1      1      1  03:40:30    1\n"
     ]
    }
   ],
   "source": [
    "merged_multi_index = pd.merge(d1, d2, on=['Name', 'Duration'], how='outer')\n",
    "print(\"\\nDescriptive statistics for merged data with multi-row indexes:\")\n",
    "print(merged_multi_index.groupby(['Name', 'Duration']).describe())"
   ]
  }
 ],
 "metadata": {
  "kernelspec": {
   "display_name": "Python 3 (ipykernel)",
   "language": "python",
   "name": "python3"
  },
  "language_info": {
   "codemirror_mode": {
    "name": "ipython",
    "version": 3
   },
   "file_extension": ".py",
   "mimetype": "text/x-python",
   "name": "python",
   "nbconvert_exporter": "python",
   "pygments_lexer": "ipython3",
   "version": "3.11.5"
  }
 },
 "nbformat": 4,
 "nbformat_minor": 5
}
