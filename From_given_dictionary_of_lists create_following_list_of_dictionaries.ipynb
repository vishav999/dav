{
 "cells": [
  {
   "cell_type": "markdown",
   "id": "2791a8e8",
   "metadata": {},
   "source": [
    "# Given below is a dictionary having two keys ‘Boys’ and ‘Girls’ and having two lists of heights of five Boys and five Girls respectively as values associated with these keys, From the given dictionary of lists create the following list of dictionaries"
   ]
  },
  {
   "cell_type": "code",
   "execution_count": 1,
   "id": "d8556997",
   "metadata": {},
   "outputs": [
    {
     "name": "stdout",
     "output_type": "stream",
     "text": [
      "[{'Boys': 72, 'Girls': 63}, {'Boys': 68, 'Girls': 65}, {'Boys': 70, 'Girls': 69}, {'Boys': 69, 'Girls': 62}, {'Boys': 74, 'Girls': 61}]\n"
     ]
    }
   ],
   "source": [
    "dict_1 = {'Boys': [72, 68, 70, 69, 74], 'Girls': [63, 65, 69, 62, 61]}\n",
    "\n",
    "result = [{'Boys': boys_height, 'Girls': girls_height} for boys_height, girls_height in zip(dict_1['Boys'], dict_1['Girls'])]\n",
    "\n",
    "print(result)\n",
    "\n",
    "li = []\n",
    "\n",
    "for i in range(len(dict_1[\"Boys\"])):\n",
    "    li.append({\"Boys\": dict_1[\"Boys\"][i], \"Girls\": dict_1[\"Girls\"][i]})"
   ]
  }
 ],
 "metadata": {
  "kernelspec": {
   "display_name": "Python 3 (ipykernel)",
   "language": "python",
   "name": "python3"
  },
  "language_info": {
   "codemirror_mode": {
    "name": "ipython",
    "version": 3
   },
   "file_extension": ".py",
   "mimetype": "text/x-python",
   "name": "python",
   "nbconvert_exporter": "python",
   "pygments_lexer": "ipython3",
   "version": "3.11.5"
  }
 },
 "nbformat": 4,
 "nbformat_minor": 5
}
