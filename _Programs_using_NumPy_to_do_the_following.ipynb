{
 "cells": [
  {
   "cell_type": "markdown",
   "id": "14096c94",
   "metadata": {},
   "source": [
    "# Write programs in Python using NumPy library to do the following:"
   ]
  },
  {
   "cell_type": "code",
   "execution_count": 1,
   "id": "fc1161a6",
   "metadata": {},
   "outputs": [],
   "source": [
    "import numpy as np"
   ]
  },
  {
   "cell_type": "code",
   "execution_count": 2,
   "id": "c0006089",
   "metadata": {},
   "outputs": [
    {
     "data": {
      "text/plain": [
       "array([[0, 1, 2, 3, 4],\n",
       "       [5, 6, 7, 8, 9]])"
      ]
     },
     "execution_count": 2,
     "metadata": {},
     "output_type": "execute_result"
    }
   ],
   "source": [
    "arr = np.arange(10).reshape(2,5)\n",
    "arr"
   ]
  },
  {
   "cell_type": "markdown",
   "id": "b48369f1",
   "metadata": {},
   "source": [
    "## a. Compute the mean, standard deviation, and variance of a two dimensional random integer array along the second axis"
   ]
  },
  {
   "cell_type": "code",
   "execution_count": 3,
   "id": "6d88e178",
   "metadata": {},
   "outputs": [
    {
     "name": "stdout",
     "output_type": "stream",
     "text": [
      "Mean =  [2. 7.]\n"
     ]
    }
   ],
   "source": [
    "print(\"Mean = \", np.mean(arr, axis = 1))"
   ]
  },
  {
   "cell_type": "markdown",
   "id": "dd7cfe8d",
   "metadata": {},
   "source": [
    "## b. Get the indices of the sorted elements of a given array, a. B = [56, 48, 22, 41, 78, 91, 24, 46, 8, 33]\n"
   ]
  },
  {
   "cell_type": "code",
   "execution_count": 4,
   "id": "6a492666",
   "metadata": {},
   "outputs": [
    {
     "name": "stdout",
     "output_type": "stream",
     "text": [
      "[8 2 6 9 3 7 1 0 4 5]\n",
      "[ 8 22 24 33 41 46 48 56 78 91]\n"
     ]
    }
   ],
   "source": [
    "B = [56, 48, 22, 41, 78, 91, 24, 46, 8, 33]\n",
    "indices = np.argsort(B)\n",
    "print(indices)\n",
    "print(np.sort(B))"
   ]
  },
  {
   "cell_type": "markdown",
   "id": "93fe1284",
   "metadata": {},
   "source": [
    "## c. Create a 2-dimensional array of size m x n integer elements, also print the shape, type and data type of the array and then reshape it into nxm array, n and m are user inputs given at the run time."
   ]
  },
  {
   "cell_type": "code",
   "execution_count": 5,
   "id": "a09f9408",
   "metadata": {},
   "outputs": [
    {
     "data": {
      "text/plain": [
       "array([[0, 1, 2, 3, 4],\n",
       "       [5, 6, 7, 8, 9]])"
      ]
     },
     "execution_count": 5,
     "metadata": {},
     "output_type": "execute_result"
    }
   ],
   "source": [
    "arr = np.arange(10).reshape(2,5)\n",
    "arr"
   ]
  },
  {
   "cell_type": "code",
   "execution_count": 6,
   "id": "79072773",
   "metadata": {},
   "outputs": [
    {
     "data": {
      "text/plain": [
       "(2, 5)"
      ]
     },
     "execution_count": 6,
     "metadata": {},
     "output_type": "execute_result"
    }
   ],
   "source": [
    "arr.shape"
   ]
  },
  {
   "cell_type": "code",
   "execution_count": 7,
   "id": "1a61a9be",
   "metadata": {},
   "outputs": [
    {
     "data": {
      "text/plain": [
       "numpy.ndarray"
      ]
     },
     "execution_count": 7,
     "metadata": {},
     "output_type": "execute_result"
    }
   ],
   "source": [
    "type(arr)"
   ]
  },
  {
   "cell_type": "code",
   "execution_count": 8,
   "id": "ffb7b971",
   "metadata": {},
   "outputs": [
    {
     "data": {
      "text/plain": [
       "dtype('int32')"
      ]
     },
     "execution_count": 8,
     "metadata": {},
     "output_type": "execute_result"
    }
   ],
   "source": [
    "arr.dtype"
   ]
  },
  {
   "cell_type": "code",
   "execution_count": 10,
   "id": "66ca5f87",
   "metadata": {},
   "outputs": [
    {
     "name": "stdout",
     "output_type": "stream",
     "text": [
      "Enter no. rows = 5\n",
      "Enter no. cols = 2\n"
     ]
    },
    {
     "data": {
      "text/plain": [
       "array([[0, 1],\n",
       "       [2, 3],\n",
       "       [4, 5],\n",
       "       [6, 7],\n",
       "       [8, 9]])"
      ]
     },
     "execution_count": 10,
     "metadata": {},
     "output_type": "execute_result"
    }
   ],
   "source": [
    "n = int(input(\"Enter no. rows = \"))\n",
    "m = int(input(\"Enter no. cols = \"))\n",
    "arr.reshape(n,m)"
   ]
  },
  {
   "cell_type": "markdown",
   "id": "deffe175",
   "metadata": {},
   "source": [
    "## Test whether the elements of a given array are zero, non-zero and NaN. Record the indices of these elements in three separate arrays."
   ]
  },
  {
   "cell_type": "code",
   "execution_count": 12,
   "id": "321f59d9",
   "metadata": {},
   "outputs": [
    {
     "name": "stdout",
     "output_type": "stream",
     "text": [
      "(array([0, 2], dtype=int64), array([0, 1], dtype=int64))\n",
      "(array([0], dtype=int64), array([1], dtype=int64))\n",
      "(array([0, 1, 1, 2, 2], dtype=int64), array([0, 0, 1, 0, 1], dtype=int64))\n"
     ]
    }
   ],
   "source": [
    "import numpy as np\n",
    "arr=np.array([[np.nan,0],[7,70],[8,np.nan]])\n",
    "print(np.where(np.isnan(arr1)))\n",
    "print(np.where(arr1==0))\n",
    "print(np.where(arr1!=0))"
   ]
  }
 ],
 "metadata": {
  "kernelspec": {
   "display_name": "Python 3 (ipykernel)",
   "language": "python",
   "name": "python3"
  },
  "language_info": {
   "codemirror_mode": {
    "name": "ipython",
    "version": 3
   },
   "file_extension": ".py",
   "mimetype": "text/x-python",
   "name": "python",
   "nbconvert_exporter": "python",
   "pygments_lexer": "ipython3",
   "version": "3.11.5"
  }
 },
 "nbformat": 4,
 "nbformat_minor": 5
}
